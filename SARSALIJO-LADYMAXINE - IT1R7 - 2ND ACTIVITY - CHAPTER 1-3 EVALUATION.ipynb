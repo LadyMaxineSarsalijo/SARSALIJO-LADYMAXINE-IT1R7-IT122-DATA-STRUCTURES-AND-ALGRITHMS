{
 "cells": [
  {
   "cell_type": "code",
   "execution_count": 93,
   "id": "actual-olive",
   "metadata": {},
   "outputs": [
    {
     "name": "stdout",
     "output_type": "stream",
     "text": [
      "\"Discuss your learnings on Chapter 1  time-frame 8:00 - 30:35. Minimum of 200 characters\" \n",
      "\n",
      "In the first chapter of Data Structures and Algorithms from 8:00 to 30:35, I learned about the\n",
      "characteristics of data structures, execution time case, why we should learn data structures and algorithm, \n",
      "basic syntax and a lot more.\n",
      "\n",
      "In characteristics of Data Structure, there are three components that we have to remember, \n",
      "(1) Correctness, it implies the implementation of correctness in data structuring. \n",
      "(2) Time Complexity, when building a data structure running time should be small as possible. \n",
      "(3) Space Complexity, this implies the memory usage you are going to structure a data. The operation should as little as possible.\n",
      "These three are important especially when structuring a data.\n",
      "\n",
      "I learned also the different execution case scenarios those are \"worst case\" which execution goes beyond the time expected. Second is the\n",
      "\"average case\" which execution time goes beyond time expected but just a little difference. Lastly, the \"best case\" which execution time is\n",
      "faster than the execution time expected.\n",
      "\n",
      "Searching, sorting, inserting, updating, deleting and merging an item were also tackled in this chapter.\n",
      "These are the different types of Applications of Data Structure and Algorithm where we can use in building a data structure.\n",
      "It also discussed Basic Terminology's in Data Structures and Algorithm such as data, data item, elementary items,attribute and entities etc.\n",
      "\n",
      "And lastly, through this discussion, I was able to learn on how to write an algorithm. Algorithm is a step-by-step process which means it is composed by procedures.\n",
      "In writing an algorithm in any programming language, we need to ofcourse have the step 1 which is the \"START\" and end with \"STOP\".\n",
      "Algorithm is the process in which you will put an input and display with an output.\n"
     ]
    }
   ],
   "source": [
    "print ('\"Discuss your learnings on Chapter 1  time-frame 8:00 - 30:35. Minimum of 200 characters\" \\n')\n",
    "print ('In the first chapter of Data Structures and Algorithms from 8:00 to 30:35, I learned about the\\ncharacteristics of data structures, execution time case, why we should learn data structures and algorithm, \\nbasic syntax and a lot more.')\n",
    "print ('\\nIn characteristics of Data Structure, there are three components that we have to remember, \\n(1) Correctness, it implies the implementation of correctness in data structuring. \\n(2) Time Complexity, when building a data structure running time should be small as possible. \\n(3) Space Complexity, this implies the memory usage you are going to structure a data. The operation should as little as possible.')\n",
    "print ('These three are important especially when structuring a data.')\n",
    "print ('\\nI learned also the different execution case scenarios those are \"worst case\" which execution goes beyond the time expected. Second is the\\n\"average case\" which execution time goes beyond time expected but just a little difference. Lastly, the \"best case\" which execution time is\\nfaster than the execution time expected.')\n",
    "print ('\\nSearching, sorting, inserting, updating, deleting and merging an item were also tackled in this chapter.\\nThese are the different types of Applications of Data Structure and Algorithm where we can use in building a data structure.')\n",
    "print ('It also discussed Basic Terminology\\'s in Data Structures and Algorithm such as data, data item, elementary items,attribute and entities etc.')\n",
    "print ('\\nAnd lastly, through this discussion, I was able to learn on how to write an algorithm. Algorithm is a step-by-step process which means it is composed by procedures.')\n",
    "print ('In writing an algorithm in any programming language, we need to ofcourse have the step 1 which is the \"START\" and end with \"STOP\".\\nAlgorithm is the process in which you will put an input and display with an output.')"
   ]
  },
  {
   "cell_type": "code",
   "execution_count": 51,
   "id": "generic-montgomery",
   "metadata": {},
   "outputs": [
    {
     "name": "stdout",
     "output_type": "stream",
     "text": [
      "\"Discuss your learnings on Chapter 1  time-frame 35:00 - end\" \n",
      "\n",
      "In chapter 1 time frame 35:00 min to end discussed about alogorithm analysis,algorithm complexity, space complexity,\n",
      "time complexity and local environment set up of Python Programming.\n",
      "\n",
      "There are two different stages in algorithm analysis, the first one is the \"A priori analysis\" and \"A posterior analysis\".\n",
      "\"A priori analysis\" is a theoritical algorithm analysis that assumes all other factors inclusing processor speed while the \"a posterior analysis\" is a emprical analysis that provides implementation by programming language in a specific machine.\n",
      "\n",
      "The next one is the Algorithm Complexity. Time factor and Space factor are the two main factor of Algorithm Complexity.\n",
      "Time factor is measured by counting numbers key operation such as comparisons in the sorting algo.\n",
      "Space factor  is the space measured by counting the maximum memory space.\n",
      "\n",
      "Space Complexity has two components those are \"The fixed part\" and \"the variable part\". Fixed part explained that it is the space required to\n",
      "store certain data and variables that are independent of the size and the Varible part is a space complexity which requires variables.\n",
      "I also learned about the use or function of Time Complexity. Time Complexity represents the amount of time required to tun an completion.\n",
      "and Lastly, this chapter also taught us on how to set up a python language programming. Python language is one of the most convenient programming language among all the programming language because its functions are derived in english terms which student easily get and learn about it. \n"
     ]
    }
   ],
   "source": [
    "print ('\"Discuss your learnings on Chapter 1  time-frame 35:00 - end\" \\n')\n",
    "print ('In chapter 1 time frame 35:00 min to end discussed about alogorithm analysis,algorithm complexity, space complexity,\\ntime complexity and local environment set up of Python Programming.')\n",
    "print ('\\nThere are two different stages in algorithm analysis, the first one is the \"A priori analysis\" and \"A posterior analysis\".\\n\"A priori analysis\" is a theoritical algorithm analysis that assumes all other factors inclusing processor speed while the \"a posterior analysis\" is a emprical analysis that provides implementation by programming language in a specific machine.')\n",
    "print ('\\nThe next one is the Algorithm Complexity. Time factor and Space factor are the two main factor of Algorithm Complexity.\\nTime factor is measured by counting numbers key operation such as comparisons in the sorting algo.\\nSpace factor  is the space measured by counting the maximum memory space.')\n",
    "print ('\\nSpace Complexity has two components those are \"The fixed part\" and \"the variable part\". Fixed part explained that it is the space required to\\nstore certain data and variables that are independent of the size and the Varible part is a space complexity which requires variables.')\n",
    "print ('I also learned about the use or function of Time Complexity. Time Complexity represents the amount of time required to tun an completion.')\n",
    "print ('and Lastly, this chapter also taught us on how to set up a python language programming. Python language is one of the most convenient programming language among all the programming language because its functions are derived in english terms which student easily get and learn about it. ')"
   ]
  },
  {
   "cell_type": "code",
   "execution_count": 94,
   "id": "rational-third",
   "metadata": {},
   "outputs": [
    {
     "name": "stdout",
     "output_type": "stream",
     "text": [
      "\"Discuss your learnings on Chapter 2  time-frame 5:00 - 9:00\"\n",
      "\n",
      "Chapter 2 discussed about the \"Data Structures Basic Concept\". 5:00 mins to 9:00 mins discussed about the Built-in data type,\n",
      "Derived data type and Basic Operations. This chapter provides brief explanation about Data Structures Basic Concepts.\n",
      "First of, we have the \"Built-in Data type\", built-in data type is a language that has a built-in support like integers, boolean, floating,\n",
      "character and strings. Example of an integer is a real number like 1,2,3,4,5. Boolean is a condition which tells us if the statement is true or\n",
      "false. Floating is a built-in support consist of numbers including decimals. Lastly, the character and strings are variables like sentence or\n",
      "words.\n",
      "\n",
      "The second one, we have the \"Derived Data type\" this data type is independently implemented and it is the combination of primary or built-in data types and associated operations on them. Derived data types includes list, array, stack and queue.\n",
      "\n",
      "And lastly, the \"Basic Operation\", as an IT student learning python, we are able to encounter this basic operations especially in our computer\n",
      "programming subject. These operations are traversing, searching, insertion, deletion, sorting, updating and merging.\n",
      "\n",
      "Traversing is a basic operation that makes an item cross from one place to another.\n",
      "Searching is a basic operation that searches an item.\n",
      "Insertion, a basic operation which allows us to insert an element or an item.\n",
      "Deletion, is a basic operation which allows to delete or remove an item.\n",
      "Sorting, a basic operation that sorts out elements.\n",
      "Updating, a basic operation that updates or change the existing element.\n",
      "Merging, a basic operation that merges or combine the given elements.\n"
     ]
    }
   ],
   "source": [
    "print ('\"Discuss your learnings on Chapter 2  time-frame 5:00 - 9:00\"\\n')\n",
    "print ('Chapter 2 discussed about the \"Data Structures Basic Concept\". 5:00 mins to 9:00 mins discussed about the Built-in data type,\\nDerived data type and Basic Operations. This chapter provides brief explanation about Data Structures Basic Concepts.\\nFirst of, we have the \"Built-in Data type\", built-in data type is a language that has a built-in support like integers, boolean, floating,\\ncharacter and strings. Example of an integer is a real number like 1,2,3,4,5. Boolean is a condition which tells us if the statement is true or\\nfalse. Floating is a built-in support consist of numbers including decimals. Lastly, the character and strings are variables like sentence or\\nwords.')\n",
    "print ('\\nThe second one, we have the \"Derived Data type\" this data type is independently implemented and it is the combination of primary or built-in data types and associated operations on them. Derived data types includes list, array, stack and queue.')\n",
    "print ('\\nAnd lastly, the \"Basic Operation\", as an IT student learning python, we are able to encounter this basic operations especially in our computer\\nprogramming subject. These operations are traversing, searching, insertion, deletion, sorting, updating and merging.')\n",
    "print ('\\nTraversing is a basic operation that makes an item cross from one place to another.')\n",
    "print ('Searching is a basic operation that searches an item.')\n",
    "print ('Insertion, a basic operation which allows us to insert an element or an item.')\n",
    "print ('Deletion, is a basic operation which allows to delete or remove an item.')\n",
    "print ('Sorting, a basic operation that sorts out elements.')\n",
    "print ('Updating, a basic operation that updates or change the existing element.')\n",
    "print ('Merging, a basic operation that merges or combine the given elements.')"
   ]
  },
  {
   "cell_type": "code",
   "execution_count": 97,
   "id": "worse-facility",
   "metadata": {},
   "outputs": [
    {
     "name": "stdout",
     "output_type": "stream",
     "text": [
      "\"Discuss your learnings on Chapter 3  time-frame 3:00 - 18:00\"\n",
      "\n",
      "Chapter 3 discussed about arrays. An array is a container which hold a fix number of items and these items are in the same type.\n",
      "There are two important terms in an array and that is the \"element\" and \"index\". An element is an items that stored in an array while index is\n",
      "the location of an element inside an array.\n",
      "\n",
      "The array representation, in an index it should always starts counting at 0 in identifying the elements location. this chapter also discussed\n",
      "about the basic operations but I already knew about it because it was tackled in the previous chapter.\n",
      "This chapter also helped me understand the syntax of an array.\n",
      "\n",
      "from array import*\n",
      "\n",
      "arrayName = array (typecode,[initializers])\n",
      "\n",
      "Shown above is the basic syntax of an array which is very helpful because I can easily identify how an array works.\n",
      "Typecode, these are the codes that are used to define the type of value the array will hold. There are different types of typecodes, the \"b\", \"B\",\"c\",\"i\",\"I\",\"f\", and \"d\". Each typecode hold differemt size of bytes.\n",
      "Finally, I learned how to code an array. It was a recall for me to understand more about an array.\n"
     ]
    }
   ],
   "source": [
    "print ('\"Discuss your learnings on Chapter 3  time-frame 3:00 - 18:00\"\\n')\n",
    "print ('Chapter 3 discussed about arrays. An array is a container which hold a fix number of items and these items are in the same type.')\n",
    "print ('There are two important terms in an array and that is the \"element\" and \"index\". An element is an items that stored in an array while index is\\nthe location of an element inside an array.')\n",
    "print ('\\nThe array representation, in an index it should always starts counting at 0 in identifying the elements location. this chapter also discussed\\nabout the basic operations but I already knew about it because it was tackled in the previous chapter.')\n",
    "print ('This chapter also helped me understand the syntax of an array.\\n\\nfrom array import*\\n\\narrayName = array (typecode,[initializers])\\n\\nShown above is the basic syntax of an array which is very helpful because I can easily identify how an array works.')\n",
    "print ('Typecode, these are the codes that are used to define the type of value the array will hold. There are different types of typecodes, the \"b\", \"B\",\"c\",\"i\",\"I\",\"f\", and \"d\". Each typecode hold differemt size of bytes.')\n",
    "print ('Finally, I learned how to code an array. It was a recall for me to understand more about an array.')\n"
   ]
  },
  {
   "cell_type": "code",
   "execution_count": 96,
   "id": "standing-patrol",
   "metadata": {},
   "outputs": [
    {
     "name": "stdout",
     "output_type": "stream",
     "text": [
      "200\n",
      "11\n",
      "3\n",
      "88\n",
      "16\n"
     ]
    }
   ],
   "source": [
    "from array import*\n",
    "\n",
    "arrayNum = array ('I', [19,11,3,30,16])\n",
    "arrayNum.insert(1,200)\n",
    "arrayNum.remove(19)\n",
    "arrayNum[3]= 88\n",
    "for x in arrayNum:\n",
    "    print (x)\n",
    "\n",
    "    \n"
   ]
  },
  {
   "cell_type": "code",
   "execution_count": null,
   "id": "collected-surprise",
   "metadata": {},
   "outputs": [],
   "source": []
  }
 ],
 "metadata": {
  "kernelspec": {
   "display_name": "Python 3",
   "language": "python",
   "name": "python3"
  },
  "language_info": {
   "codemirror_mode": {
    "name": "ipython",
    "version": 3
   },
   "file_extension": ".py",
   "mimetype": "text/x-python",
   "name": "python",
   "nbconvert_exporter": "python",
   "pygments_lexer": "ipython3",
   "version": "3.9.2"
  }
 },
 "nbformat": 4,
 "nbformat_minor": 5
}
